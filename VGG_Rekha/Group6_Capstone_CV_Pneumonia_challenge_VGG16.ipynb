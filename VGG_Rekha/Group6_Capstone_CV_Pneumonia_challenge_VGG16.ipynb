{
 "cells": [
  {
   "cell_type": "code",
   "execution_count": 1,
   "metadata": {
    "colab": {
     "base_uri": "https://localhost:8080/",
     "height": 122
    },
    "colab_type": "code",
    "id": "D0XNOoU0tJiU",
    "outputId": "f3c846aa-6747-4e14-dcef-5e801086f364"
   },
   "outputs": [
    {
     "name": "stdout",
     "output_type": "stream",
     "text": [
      "Go to this URL in a browser: https://accounts.google.com/o/oauth2/auth?client_id=947318989803-6bn6qk8qdgf4n4g3pfee6491hc0brc4i.apps.googleusercontent.com&redirect_uri=urn%3aietf%3awg%3aoauth%3a2.0%3aoob&response_type=code&scope=email%20https%3a%2f%2fwww.googleapis.com%2fauth%2fdocs.test%20https%3a%2f%2fwww.googleapis.com%2fauth%2fdrive%20https%3a%2f%2fwww.googleapis.com%2fauth%2fdrive.photos.readonly%20https%3a%2f%2fwww.googleapis.com%2fauth%2fpeopleapi.readonly\n",
      "\n",
      "Enter your authorization code:\n",
      "··········\n",
      "Mounted at /content/gdrive\n"
     ]
    }
   ],
   "source": [
    "from google.colab import drive\n",
    "drive.mount('/content/gdrive')"
   ]
  },
  {
   "cell_type": "code",
   "execution_count": 2,
   "metadata": {
    "colab": {
     "base_uri": "https://localhost:8080/",
     "height": 34
    },
    "colab_type": "code",
    "id": "WnvzN0DftNyF",
    "outputId": "592a70d5-0632-406a-aa19-8eaf5e6c6fdb"
   },
   "outputs": [
    {
     "name": "stdout",
     "output_type": "stream",
     "text": [
      "/content/gdrive/My Drive/kaggle/RSNA/content\n"
     ]
    }
   ],
   "source": [
    "cd /content/gdrive/My Drive/kaggle/RSNA/content"
   ]
  },
  {
   "cell_type": "code",
   "execution_count": 3,
   "metadata": {
    "colab": {
     "base_uri": "https://localhost:8080/",
     "height": 102
    },
    "colab_type": "code",
    "id": "iwOOBGRSuKvz",
    "outputId": "61ca7ebc-4651-4d4f-b3e0-898a71feadc9"
   },
   "outputs": [
    {
     "name": "stdout",
     "output_type": "stream",
     "text": [
      "'GCP Credits Request Link - RSNA.txt'   stage_2_test_images\n",
      " image_bbox_full.csv\t\t        stage_2_train_images\n",
      " overview.png\t\t\t        stage_2_train_labels.csv\n",
      " stage_2_detailed_class_info.csv        train_segs.h5\n",
      " stage_2_sample_submission.csv\n"
     ]
    }
   ],
   "source": [
    "!ls"
   ]
  },
  {
   "cell_type": "markdown",
   "metadata": {
    "colab_type": "text",
    "id": "4cKI-fBqt5K2"
   },
   "source": [
    "Overview\n",
    "The notebook aims to get a better feeling for the data and more importantly the distributions of values. We take the labels and combine them with the detailed class info and try and determine what the biggest challenges of the prediction might be."
   ]
  },
  {
   "cell_type": "code",
   "execution_count": 4,
   "metadata": {
    "colab": {
     "base_uri": "https://localhost:8080/",
     "height": 34
    },
    "colab_type": "code",
    "id": "SzpTzoWvup_m",
    "outputId": "e437bcb8-5469-4c37-872e-ab80da64d5fb"
   },
   "outputs": [
    {
     "name": "stdout",
     "output_type": "stream",
     "text": [
      "\u001b[K     |████████████████████████████████| 35.3MB 122kB/s \n",
      "\u001b[?25h"
     ]
    }
   ],
   "source": [
    "# install dependencies not included by Colab\n",
    "# use pip3 to ensure compatibility w/ Google Deep Learning Images \n",
    "!pip3 install -q pydicom \n",
    "!pip3 install -q tqdm \n",
    "!pip3 install -q imgaug "
   ]
  },
  {
   "cell_type": "code",
   "execution_count": 0,
   "metadata": {
    "colab": {},
    "colab_type": "code",
    "id": "hImZ4vFyt6S2"
   },
   "outputs": [],
   "source": [
    "%matplotlib inline\n",
    "import matplotlib.pyplot as plt\n",
    "import numpy as np\n",
    "import pydicom\n",
    "import pandas as pd\n",
    "from glob import glob\n",
    "import os\n",
    "from matplotlib.patches import Rectangle\n",
    "det_class_path = '/content/gdrive/My Drive/kaggle/RSNA/content/stage_2_detailed_class_info.csv'\n",
    "bbox_path = '/content/gdrive/My Drive/kaggle/RSNA/content/stage_2_train_labels.csv'\n",
    "dicom_dir = '/content/gdrive/My Drive/kaggle/RSNA/content/stage_2_train_images'"
   ]
  },
  {
   "cell_type": "markdown",
   "metadata": {
    "colab_type": "text",
    "id": "7lvbOe5ivI9h"
   },
   "source": [
    "Detailed Class Info\n",
    "\n",
    "Here we show the image-level labels for the scans. The most interesting group here is the No Lung Opacity / Not Normal since they are cases that look like opacity but are not. So the first step might be to divide the test images into clear groups and then only perform the bounding box prediction on the suspicious images."
   ]
  },
  {
   "cell_type": "code",
   "execution_count": 6,
   "metadata": {
    "colab": {
     "base_uri": "https://localhost:8080/",
     "height": 732
    },
    "colab_type": "code",
    "id": "VqbJlII3uk7g",
    "outputId": "e2a5feca-9c80-4d51-bae5-a508d4e54160"
   },
   "outputs": [
    {
     "name": "stdout",
     "output_type": "stream",
     "text": [
      "30227 class infos loaded\n",
      "26684 patient cases\n"
     ]
    },
    {
     "data": {
      "text/html": [
       "<div>\n",
       "<style scoped>\n",
       "    .dataframe tbody tr th:only-of-type {\n",
       "        vertical-align: middle;\n",
       "    }\n",
       "\n",
       "    .dataframe tbody tr th {\n",
       "        vertical-align: top;\n",
       "    }\n",
       "\n",
       "    .dataframe thead th {\n",
       "        text-align: right;\n",
       "    }\n",
       "</style>\n",
       "<table border=\"1\" class=\"dataframe\">\n",
       "  <thead>\n",
       "    <tr style=\"text-align: right;\">\n",
       "      <th></th>\n",
       "      <th>patientId</th>\n",
       "      <th>class</th>\n",
       "    </tr>\n",
       "  </thead>\n",
       "  <tbody>\n",
       "    <tr>\n",
       "      <th>15517</th>\n",
       "      <td>9791218b-e932-4580-a8eb-a835a596a338</td>\n",
       "      <td>No Lung Opacity / Not Normal</td>\n",
       "    </tr>\n",
       "    <tr>\n",
       "      <th>21054</th>\n",
       "      <td>bf10ff6e-fc24-4cfc-9b5f-7a156608dc1a</td>\n",
       "      <td>Lung Opacity</td>\n",
       "    </tr>\n",
       "    <tr>\n",
       "      <th>23532</th>\n",
       "      <td>d3f11cd9-12c4-464c-82fd-d43856533a77</td>\n",
       "      <td>Normal</td>\n",
       "    </tr>\n",
       "    <tr>\n",
       "      <th>27068</th>\n",
       "      <td>f0e63975-2990-4f7a-a9ea-8b2193acc83b</td>\n",
       "      <td>Normal</td>\n",
       "    </tr>\n",
       "    <tr>\n",
       "      <th>14880</th>\n",
       "      <td>9252b13b-8cbe-46b1-b294-73ace9047109</td>\n",
       "      <td>No Lung Opacity / Not Normal</td>\n",
       "    </tr>\n",
       "    <tr>\n",
       "      <th>8748</th>\n",
       "      <td>621d4f82-96c0-4189-9024-e1182f9d2d5f</td>\n",
       "      <td>No Lung Opacity / Not Normal</td>\n",
       "    </tr>\n",
       "    <tr>\n",
       "      <th>19251</th>\n",
       "      <td>b35a97b9-05a2-476e-8edc-356e2b228cde</td>\n",
       "      <td>No Lung Opacity / Not Normal</td>\n",
       "    </tr>\n",
       "    <tr>\n",
       "      <th>28286</th>\n",
       "      <td>fa7af4c7-4c35-48b6-bf91-585da33e4b6e</td>\n",
       "      <td>No Lung Opacity / Not Normal</td>\n",
       "    </tr>\n",
       "  </tbody>\n",
       "</table>\n",
       "</div>"
      ],
      "text/plain": [
       "                                  patientId                         class\n",
       "15517  9791218b-e932-4580-a8eb-a835a596a338  No Lung Opacity / Not Normal\n",
       "21054  bf10ff6e-fc24-4cfc-9b5f-7a156608dc1a                  Lung Opacity\n",
       "23532  d3f11cd9-12c4-464c-82fd-d43856533a77                        Normal\n",
       "27068  f0e63975-2990-4f7a-a9ea-8b2193acc83b                        Normal\n",
       "14880  9252b13b-8cbe-46b1-b294-73ace9047109  No Lung Opacity / Not Normal\n",
       "8748   621d4f82-96c0-4189-9024-e1182f9d2d5f  No Lung Opacity / Not Normal\n",
       "19251  b35a97b9-05a2-476e-8edc-356e2b228cde  No Lung Opacity / Not Normal\n",
       "28286  fa7af4c7-4c35-48b6-bf91-585da33e4b6e  No Lung Opacity / Not Normal"
      ]
     },
     "execution_count": 6,
     "metadata": {
      "tags": []
     },
     "output_type": "execute_result"
    },
    {
     "data": {
      "image/png": "[encoded data removed]",
      "text/plain": [
       "<Figure size 432x288 with 1 Axes>"
      ]
     },
     "metadata": {
      "needs_background": "light",
      "tags": []
     },
     "output_type": "display_data"
    }
   ],
   "source": [
    "det_class_df = pd.read_csv(det_class_path)\n",
    "print(det_class_df.shape[0], 'class infos loaded')\n",
    "print(det_class_df['patientId'].value_counts().shape[0], 'patient cases')\n",
    "det_class_df.groupby('class').size().plot.bar()\n",
    "det_class_df.sample(8)"
   ]
  },
  {
   "cell_type": "markdown",
   "metadata": {
    "colab_type": "text",
    "id": "8jHALOgAwfZ_"
   },
   "source": [
    "Load the Bounding Box Data\n",
    "\n",
    "Here we show the bounding boxes"
   ]
  },
  {
   "cell_type": "code",
   "execution_count": 7,
   "metadata": {
    "colab": {
     "base_uri": "https://localhost:8080/",
     "height": 331
    },
    "colab_type": "code",
    "id": "KViab4nPvUTi",
    "outputId": "3d82dc6f-1e66-46f7-c7f1-0b3c9050243f"
   },
   "outputs": [
    {
     "name": "stdout",
     "output_type": "stream",
     "text": [
      "30227 boxes loaded\n",
      "26684 patient cases\n"
     ]
    },
    {
     "data": {
      "text/html": [
       "<div>\n",
       "<style scoped>\n",
       "    .dataframe tbody tr th:only-of-type {\n",
       "        vertical-align: middle;\n",
       "    }\n",
       "\n",
       "    .dataframe tbody tr th {\n",
       "        vertical-align: top;\n",
       "    }\n",
       "\n",
       "    .dataframe thead th {\n",
       "        text-align: right;\n",
       "    }\n",
       "</style>\n",
       "<table border=\"1\" class=\"dataframe\">\n",
       "  <thead>\n",
       "    <tr style=\"text-align: right;\">\n",
       "      <th></th>\n",
       "      <th>patientId</th>\n",
       "      <th>x</th>\n",
       "      <th>y</th>\n",
       "      <th>width</th>\n",
       "      <th>height</th>\n",
       "      <th>Target</th>\n",
       "    </tr>\n",
       "  </thead>\n",
       "  <tbody>\n",
       "    <tr>\n",
       "      <th>28667</th>\n",
       "      <td>fd7b14ec-6ac4-4aa7-b9ff-de6930fc3af1</td>\n",
       "      <td>NaN</td>\n",
       "      <td>NaN</td>\n",
       "      <td>NaN</td>\n",
       "      <td>NaN</td>\n",
       "      <td>0</td>\n",
       "    </tr>\n",
       "    <tr>\n",
       "      <th>26261</th>\n",
       "      <td>ea872d0d-d42c-4330-9c09-799bc3b0ab09</td>\n",
       "      <td>NaN</td>\n",
       "      <td>NaN</td>\n",
       "      <td>NaN</td>\n",
       "      <td>NaN</td>\n",
       "      <td>0</td>\n",
       "    </tr>\n",
       "    <tr>\n",
       "      <th>12749</th>\n",
       "      <td>815dd1c1-3e01-4038-9723-39d05e8b3cd3</td>\n",
       "      <td>251.0</td>\n",
       "      <td>406.0</td>\n",
       "      <td>249.0</td>\n",
       "      <td>281.0</td>\n",
       "      <td>1</td>\n",
       "    </tr>\n",
       "    <tr>\n",
       "      <th>14569</th>\n",
       "      <td>8fb5ee99-8520-432a-a5e2-dea4789ec92f</td>\n",
       "      <td>NaN</td>\n",
       "      <td>NaN</td>\n",
       "      <td>NaN</td>\n",
       "      <td>NaN</td>\n",
       "      <td>0</td>\n",
       "    </tr>\n",
       "    <tr>\n",
       "      <th>28060</th>\n",
       "      <td>f8cf5335-860a-4248-8ee6-fa92dde76ab8</td>\n",
       "      <td>NaN</td>\n",
       "      <td>NaN</td>\n",
       "      <td>NaN</td>\n",
       "      <td>NaN</td>\n",
       "      <td>0</td>\n",
       "    </tr>\n",
       "    <tr>\n",
       "      <th>25218</th>\n",
       "      <td>e2108527-d2e6-4e06-afde-d3f321d008b9</td>\n",
       "      <td>NaN</td>\n",
       "      <td>NaN</td>\n",
       "      <td>NaN</td>\n",
       "      <td>NaN</td>\n",
       "      <td>0</td>\n",
       "    </tr>\n",
       "    <tr>\n",
       "      <th>6433</th>\n",
       "      <td>4ee60076-67b2-46f8-965e-29c167a30cd3</td>\n",
       "      <td>127.0</td>\n",
       "      <td>498.0</td>\n",
       "      <td>350.0</td>\n",
       "      <td>176.0</td>\n",
       "      <td>1</td>\n",
       "    </tr>\n",
       "    <tr>\n",
       "      <th>16850</th>\n",
       "      <td>a25056f9-2c4e-42f3-a035-26552647dcd4</td>\n",
       "      <td>273.0</td>\n",
       "      <td>155.0</td>\n",
       "      <td>172.0</td>\n",
       "      <td>209.0</td>\n",
       "      <td>1</td>\n",
       "    </tr>\n",
       "  </tbody>\n",
       "</table>\n",
       "</div>"
      ],
      "text/plain": [
       "                                  patientId      x  ...  height  Target\n",
       "28667  fd7b14ec-6ac4-4aa7-b9ff-de6930fc3af1    NaN  ...     NaN       0\n",
       "26261  ea872d0d-d42c-4330-9c09-799bc3b0ab09    NaN  ...     NaN       0\n",
       "12749  815dd1c1-3e01-4038-9723-39d05e8b3cd3  251.0  ...   281.0       1\n",
       "14569  8fb5ee99-8520-432a-a5e2-dea4789ec92f    NaN  ...     NaN       0\n",
       "28060  f8cf5335-860a-4248-8ee6-fa92dde76ab8    NaN  ...     NaN       0\n",
       "25218  e2108527-d2e6-4e06-afde-d3f321d008b9    NaN  ...     NaN       0\n",
       "6433   4ee60076-67b2-46f8-965e-29c167a30cd3  127.0  ...   176.0       1\n",
       "16850  a25056f9-2c4e-42f3-a035-26552647dcd4  273.0  ...   209.0       1\n",
       "\n",
       "[8 rows x 6 columns]"
      ]
     },
     "execution_count": 7,
     "metadata": {
      "tags": []
     },
     "output_type": "execute_result"
    }
   ],
   "source": [
    "bbox_df = pd.read_csv(bbox_path)\n",
    "print(bbox_df.shape[0], 'boxes loaded')\n",
    "print(bbox_df['patientId'].value_counts().shape[0], 'patient cases')\n",
    "bbox_df.sample(8)"
   ]
  },
  {
   "cell_type": "markdown",
   "metadata": {
    "colab_type": "text",
    "id": "8ktPx_skwqg4"
   },
   "source": [
    "Combine Boxes and Labels\n",
    "\n",
    "Here we bring the labels and the boxes together and now we can focus on how the boxes look on the images"
   ]
  },
  {
   "cell_type": "code",
   "execution_count": 8,
   "metadata": {
    "colab": {
     "base_uri": "https://localhost:8080/",
     "height": 34
    },
    "colab_type": "code",
    "id": "sKfDYFdKwlQL",
    "outputId": "8fcd514a-69cb-4e36-ec77-2c2d6051cca5"
   },
   "outputs": [
    {
     "name": "stdout",
     "output_type": "stream",
     "text": [
      "37629 combined cases\n"
     ]
    }
   ],
   "source": [
    "# we first try a join and see that it doesn't work (we end up with too many boxes)\n",
    "comb_bbox_df = pd.merge(bbox_df, det_class_df, how='inner', on='patientId')\n",
    "print(comb_bbox_df.shape[0], 'combined cases')"
   ]
  },
  {
   "cell_type": "markdown",
   "metadata": {
    "colab_type": "text",
    "id": "aq2lFdjRw36_"
   },
   "source": [
    "Concatenate\n",
    "\n",
    "We have to concatenate the two datasets and then we get class and target information on each region"
   ]
  },
  {
   "cell_type": "code",
   "execution_count": 9,
   "metadata": {
    "colab": {
     "base_uri": "https://localhost:8080/",
     "height": 314
    },
    "colab_type": "code",
    "id": "bGwks7hCwwcK",
    "outputId": "a61396f5-4a00-4d9e-8aeb-b59b6c9d62d6"
   },
   "outputs": [
    {
     "name": "stdout",
     "output_type": "stream",
     "text": [
      "30227 combined cases\n"
     ]
    },
    {
     "data": {
      "text/html": [
       "<div>\n",
       "<style scoped>\n",
       "    .dataframe tbody tr th:only-of-type {\n",
       "        vertical-align: middle;\n",
       "    }\n",
       "\n",
       "    .dataframe tbody tr th {\n",
       "        vertical-align: top;\n",
       "    }\n",
       "\n",
       "    .dataframe thead th {\n",
       "        text-align: right;\n",
       "    }\n",
       "</style>\n",
       "<table border=\"1\" class=\"dataframe\">\n",
       "  <thead>\n",
       "    <tr style=\"text-align: right;\">\n",
       "      <th></th>\n",
       "      <th>patientId</th>\n",
       "      <th>x</th>\n",
       "      <th>y</th>\n",
       "      <th>width</th>\n",
       "      <th>height</th>\n",
       "      <th>Target</th>\n",
       "      <th>class</th>\n",
       "    </tr>\n",
       "  </thead>\n",
       "  <tbody>\n",
       "    <tr>\n",
       "      <th>23320</th>\n",
       "      <td>d20338e0-8ae9-4a30-9a0e-8225aae32073</td>\n",
       "      <td>547.0</td>\n",
       "      <td>364.0</td>\n",
       "      <td>337.0</td>\n",
       "      <td>326.0</td>\n",
       "      <td>1</td>\n",
       "      <td>Lung Opacity</td>\n",
       "    </tr>\n",
       "    <tr>\n",
       "      <th>23948</th>\n",
       "      <td>d73509a6-c0c2-4c8a-8e41-4c58eecfc035</td>\n",
       "      <td>NaN</td>\n",
       "      <td>NaN</td>\n",
       "      <td>NaN</td>\n",
       "      <td>NaN</td>\n",
       "      <td>0</td>\n",
       "      <td>Normal</td>\n",
       "    </tr>\n",
       "    <tr>\n",
       "      <th>24367</th>\n",
       "      <td>daf303d1-d204-4dcd-a54d-c16d94a492d8</td>\n",
       "      <td>NaN</td>\n",
       "      <td>NaN</td>\n",
       "      <td>NaN</td>\n",
       "      <td>NaN</td>\n",
       "      <td>0</td>\n",
       "      <td>No Lung Opacity / Not Normal</td>\n",
       "    </tr>\n",
       "    <tr>\n",
       "      <th>18478</th>\n",
       "      <td>ae432160-dfe3-4545-8cae-a9f5bae69b71</td>\n",
       "      <td>NaN</td>\n",
       "      <td>NaN</td>\n",
       "      <td>NaN</td>\n",
       "      <td>NaN</td>\n",
       "      <td>0</td>\n",
       "      <td>Normal</td>\n",
       "    </tr>\n",
       "    <tr>\n",
       "      <th>17299</th>\n",
       "      <td>a598d06c-3131-4bd6-a6c7-5a0cca114065</td>\n",
       "      <td>NaN</td>\n",
       "      <td>NaN</td>\n",
       "      <td>NaN</td>\n",
       "      <td>NaN</td>\n",
       "      <td>0</td>\n",
       "      <td>No Lung Opacity / Not Normal</td>\n",
       "    </tr>\n",
       "    <tr>\n",
       "      <th>2102</th>\n",
       "      <td>261341d3-1df2-4cf4-b9a8-b1e02a124900</td>\n",
       "      <td>594.0</td>\n",
       "      <td>362.0</td>\n",
       "      <td>123.0</td>\n",
       "      <td>167.0</td>\n",
       "      <td>1</td>\n",
       "      <td>Lung Opacity</td>\n",
       "    </tr>\n",
       "    <tr>\n",
       "      <th>14676</th>\n",
       "      <td>909e1bb8-f89e-472f-9b59-f2878ea7f928</td>\n",
       "      <td>NaN</td>\n",
       "      <td>NaN</td>\n",
       "      <td>NaN</td>\n",
       "      <td>NaN</td>\n",
       "      <td>0</td>\n",
       "      <td>Normal</td>\n",
       "    </tr>\n",
       "    <tr>\n",
       "      <th>17694</th>\n",
       "      <td>a8a1c87c-e541-48d6-981a-ac821dec99f0</td>\n",
       "      <td>NaN</td>\n",
       "      <td>NaN</td>\n",
       "      <td>NaN</td>\n",
       "      <td>NaN</td>\n",
       "      <td>0</td>\n",
       "      <td>No Lung Opacity / Not Normal</td>\n",
       "    </tr>\n",
       "  </tbody>\n",
       "</table>\n",
       "</div>"
      ],
      "text/plain": [
       "                                  patientId  ...                         class\n",
       "23320  d20338e0-8ae9-4a30-9a0e-8225aae32073  ...                  Lung Opacity\n",
       "23948  d73509a6-c0c2-4c8a-8e41-4c58eecfc035  ...                        Normal\n",
       "24367  daf303d1-d204-4dcd-a54d-c16d94a492d8  ...  No Lung Opacity / Not Normal\n",
       "18478  ae432160-dfe3-4545-8cae-a9f5bae69b71  ...                        Normal\n",
       "17299  a598d06c-3131-4bd6-a6c7-5a0cca114065  ...  No Lung Opacity / Not Normal\n",
       "2102   261341d3-1df2-4cf4-b9a8-b1e02a124900  ...                  Lung Opacity\n",
       "14676  909e1bb8-f89e-472f-9b59-f2878ea7f928  ...                        Normal\n",
       "17694  a8a1c87c-e541-48d6-981a-ac821dec99f0  ...  No Lung Opacity / Not Normal\n",
       "\n",
       "[8 rows x 7 columns]"
      ]
     },
     "execution_count": 9,
     "metadata": {
      "tags": []
     },
     "output_type": "execute_result"
    }
   ],
   "source": [
    "comb_bbox_df = pd.concat([bbox_df, \n",
    "                        det_class_df.drop('patientId',1)], 1)\n",
    "print(comb_bbox_df.shape[0], 'combined cases')\n",
    "comb_bbox_df.sample(8)"
   ]
  },
  {
   "cell_type": "markdown",
   "metadata": {
    "colab_type": "text",
    "id": "aKTxN6LKxKaP"
   },
   "source": [
    "Distribution of Boxes and Labels\n",
    "\n",
    "The values below show the number of boxes and the patients that have that number."
   ]
  },
  {
   "cell_type": "code",
   "execution_count": 10,
   "metadata": {
    "colab": {
     "base_uri": "https://localhost:8080/",
     "height": 204
    },
    "colab_type": "code",
    "id": "g5Eap4DQw_Ol",
    "outputId": "52b6a38b-63b9-4fa4-942a-490b497a759a"
   },
   "outputs": [
    {
     "data": {
      "text/html": [
       "<div>\n",
       "<style scoped>\n",
       "    .dataframe tbody tr th:only-of-type {\n",
       "        vertical-align: middle;\n",
       "    }\n",
       "\n",
       "    .dataframe tbody tr th {\n",
       "        vertical-align: top;\n",
       "    }\n",
       "\n",
       "    .dataframe thead th {\n",
       "        text-align: right;\n",
       "    }\n",
       "</style>\n",
       "<table border=\"1\" class=\"dataframe\">\n",
       "  <thead>\n",
       "    <tr style=\"text-align: right;\">\n",
       "      <th></th>\n",
       "      <th>boxes</th>\n",
       "      <th>patients</th>\n",
       "    </tr>\n",
       "  </thead>\n",
       "  <tbody>\n",
       "    <tr>\n",
       "      <th>0</th>\n",
       "      <td>0</td>\n",
       "      <td>20672</td>\n",
       "    </tr>\n",
       "    <tr>\n",
       "      <th>1</th>\n",
       "      <td>1</td>\n",
       "      <td>2614</td>\n",
       "    </tr>\n",
       "    <tr>\n",
       "      <th>2</th>\n",
       "      <td>2</td>\n",
       "      <td>3266</td>\n",
       "    </tr>\n",
       "    <tr>\n",
       "      <th>3</th>\n",
       "      <td>3</td>\n",
       "      <td>119</td>\n",
       "    </tr>\n",
       "    <tr>\n",
       "      <th>4</th>\n",
       "      <td>4</td>\n",
       "      <td>13</td>\n",
       "    </tr>\n",
       "  </tbody>\n",
       "</table>\n",
       "</div>"
      ],
      "text/plain": [
       "   boxes  patients\n",
       "0      0     20672\n",
       "1      1      2614\n",
       "2      2      3266\n",
       "3      3       119\n",
       "4      4        13"
      ]
     },
     "execution_count": 10,
     "metadata": {
      "tags": []
     },
     "output_type": "execute_result"
    }
   ],
   "source": [
    "box_df = comb_bbox_df.groupby('patientId')['x'].count().reset_index(name='boxes')\n",
    "comb_box_df = pd.merge(comb_bbox_df, box_df, on='patientId')\n",
    "box_df.\\\n",
    "    groupby('boxes').\\\n",
    "    size().\\\n",
    "    reset_index(name='patients')"
   ]
  },
  {
   "cell_type": "markdown",
   "metadata": {
    "colab_type": "text",
    "id": "F8T-dhRBxmTh"
   },
   "source": [
    "How are class and target related?\n",
    "\n",
    "I assume that all the Target=1 values fall in the Lung Opacity class, but it doesn't hurt to check."
   ]
  },
  {
   "cell_type": "code",
   "execution_count": 11,
   "metadata": {
    "colab": {
     "base_uri": "https://localhost:8080/",
     "height": 142
    },
    "colab_type": "code",
    "id": "GNkwS3CxxPy-",
    "outputId": "34f1cdb8-dbb9-4772-d7ef-f32f6293410f"
   },
   "outputs": [
    {
     "data": {
      "text/html": [
       "<div>\n",
       "<style scoped>\n",
       "    .dataframe tbody tr th:only-of-type {\n",
       "        vertical-align: middle;\n",
       "    }\n",
       "\n",
       "    .dataframe tbody tr th {\n",
       "        vertical-align: top;\n",
       "    }\n",
       "\n",
       "    .dataframe thead th {\n",
       "        text-align: right;\n",
       "    }\n",
       "</style>\n",
       "<table border=\"1\" class=\"dataframe\">\n",
       "  <thead>\n",
       "    <tr style=\"text-align: right;\">\n",
       "      <th></th>\n",
       "      <th>class</th>\n",
       "      <th>Target</th>\n",
       "      <th>Patient Count</th>\n",
       "    </tr>\n",
       "  </thead>\n",
       "  <tbody>\n",
       "    <tr>\n",
       "      <th>0</th>\n",
       "      <td>Lung Opacity</td>\n",
       "      <td>1</td>\n",
       "      <td>9555</td>\n",
       "    </tr>\n",
       "    <tr>\n",
       "      <th>1</th>\n",
       "      <td>No Lung Opacity / Not Normal</td>\n",
       "      <td>0</td>\n",
       "      <td>11821</td>\n",
       "    </tr>\n",
       "    <tr>\n",
       "      <th>2</th>\n",
       "      <td>Normal</td>\n",
       "      <td>0</td>\n",
       "      <td>8851</td>\n",
       "    </tr>\n",
       "  </tbody>\n",
       "</table>\n",
       "</div>"
      ],
      "text/plain": [
       "                          class  Target  Patient Count\n",
       "0                  Lung Opacity       1           9555\n",
       "1  No Lung Opacity / Not Normal       0          11821\n",
       "2                        Normal       0           8851"
      ]
     },
     "execution_count": 11,
     "metadata": {
      "tags": []
     },
     "output_type": "execute_result"
    }
   ],
   "source": [
    "comb_bbox_df.groupby(['class', 'Target']).size().reset_index(name='Patient Count')"
   ]
  },
  {
   "cell_type": "markdown",
   "metadata": {
    "colab_type": "text",
    "id": "3iTXaG5RxxBm"
   },
   "source": [
    "Images\n",
    "\n",
    "Now that we have the boxes and labels loaded we can examine a few images."
   ]
  },
  {
   "cell_type": "code",
   "execution_count": 13,
   "metadata": {
    "colab": {
     "base_uri": "https://localhost:8080/",
     "height": 34
    },
    "colab_type": "code",
    "id": "OPjxSoGKxwo_",
    "outputId": "5c41705e-876c-400a-a785-5d3992906bfb"
   },
   "outputs": [
    {
     "name": "stdout",
     "output_type": "stream",
     "text": [
      "26684 images found\n"
     ]
    }
   ],
   "source": [
    "image_df = pd.DataFrame({'path': glob(os.path.join(dicom_dir, '*.dcm'))})\n",
    "image_df['patientId'] = image_df['path'].map(lambda x: os.path.splitext(os.path.basename(x))[0])\n",
    "print(image_df.shape[0], 'images found')\n",
    "img_pat_ids = set(image_df['patientId'].values.tolist())\n",
    "box_pat_ids = set(comb_box_df['patientId'].values.tolist())\n",
    "# check to make sure there is no funny business\n",
    "assert img_pat_ids.union(box_pat_ids)==img_pat_ids, \"Patient IDs should be the same\""
   ]
  },
  {
   "cell_type": "code",
   "execution_count": 14,
   "metadata": {
    "colab": {
     "base_uri": "https://localhost:8080/",
     "height": 221
    },
    "colab_type": "code",
    "id": "mlF4aI5yxsq4",
    "outputId": "8c40d1ce-1a36-4850-87f0-a9f50a2cd9e5"
   },
   "outputs": [
    {
     "name": "stdout",
     "output_type": "stream",
     "text": [
      "30227 image bounding boxes\n"
     ]
    },
    {
     "data": {
      "text/html": [
       "<div>\n",
       "<style scoped>\n",
       "    .dataframe tbody tr th:only-of-type {\n",
       "        vertical-align: middle;\n",
       "    }\n",
       "\n",
       "    .dataframe tbody tr th {\n",
       "        vertical-align: top;\n",
       "    }\n",
       "\n",
       "    .dataframe thead th {\n",
       "        text-align: right;\n",
       "    }\n",
       "</style>\n",
       "<table border=\"1\" class=\"dataframe\">\n",
       "  <thead>\n",
       "    <tr style=\"text-align: right;\">\n",
       "      <th></th>\n",
       "      <th>patientId</th>\n",
       "      <th>x</th>\n",
       "      <th>y</th>\n",
       "      <th>width</th>\n",
       "      <th>height</th>\n",
       "      <th>Target</th>\n",
       "      <th>class</th>\n",
       "      <th>boxes</th>\n",
       "      <th>path</th>\n",
       "    </tr>\n",
       "  </thead>\n",
       "  <tbody>\n",
       "    <tr>\n",
       "      <th>0</th>\n",
       "      <td>0004cfab-14fd-4e49-80ba-63a80b6bddd6</td>\n",
       "      <td>NaN</td>\n",
       "      <td>NaN</td>\n",
       "      <td>NaN</td>\n",
       "      <td>NaN</td>\n",
       "      <td>0</td>\n",
       "      <td>No Lung Opacity / Not Normal</td>\n",
       "      <td>0</td>\n",
       "      <td>/content/gdrive/My Drive/kaggle/RSNA/content/s...</td>\n",
       "    </tr>\n",
       "    <tr>\n",
       "      <th>28989</th>\n",
       "      <td>000924cf-0f8d-42bd-9158-1af53881a557</td>\n",
       "      <td>NaN</td>\n",
       "      <td>NaN</td>\n",
       "      <td>NaN</td>\n",
       "      <td>NaN</td>\n",
       "      <td>0</td>\n",
       "      <td>Normal</td>\n",
       "      <td>0</td>\n",
       "      <td>/content/gdrive/My Drive/kaggle/RSNA/content/s...</td>\n",
       "    </tr>\n",
       "    <tr>\n",
       "      <th>28990</th>\n",
       "      <td>000db696-cf54-4385-b10b-6b16fbb3f985</td>\n",
       "      <td>316.0</td>\n",
       "      <td>318.0</td>\n",
       "      <td>170.0</td>\n",
       "      <td>478.0</td>\n",
       "      <td>1</td>\n",
       "      <td>Lung Opacity</td>\n",
       "      <td>2</td>\n",
       "      <td>/content/gdrive/My Drive/kaggle/RSNA/content/s...</td>\n",
       "    </tr>\n",
       "    <tr>\n",
       "      <th>28991</th>\n",
       "      <td>000db696-cf54-4385-b10b-6b16fbb3f985</td>\n",
       "      <td>660.0</td>\n",
       "      <td>375.0</td>\n",
       "      <td>146.0</td>\n",
       "      <td>402.0</td>\n",
       "      <td>1</td>\n",
       "      <td>Lung Opacity</td>\n",
       "      <td>2</td>\n",
       "      <td>/content/gdrive/My Drive/kaggle/RSNA/content/s...</td>\n",
       "    </tr>\n",
       "    <tr>\n",
       "      <th>28992</th>\n",
       "      <td>000fe35a-2649-43d4-b027-e67796d412e0</td>\n",
       "      <td>570.0</td>\n",
       "      <td>282.0</td>\n",
       "      <td>269.0</td>\n",
       "      <td>409.0</td>\n",
       "      <td>1</td>\n",
       "      <td>Lung Opacity</td>\n",
       "      <td>2</td>\n",
       "      <td>/content/gdrive/My Drive/kaggle/RSNA/content/s...</td>\n",
       "    </tr>\n",
       "  </tbody>\n",
       "</table>\n",
       "</div>"
      ],
      "text/plain": [
       "                                  patientId  ...                                               path\n",
       "0      0004cfab-14fd-4e49-80ba-63a80b6bddd6  ...  /content/gdrive/My Drive/kaggle/RSNA/content/s...\n",
       "28989  000924cf-0f8d-42bd-9158-1af53881a557  ...  /content/gdrive/My Drive/kaggle/RSNA/content/s...\n",
       "28990  000db696-cf54-4385-b10b-6b16fbb3f985  ...  /content/gdrive/My Drive/kaggle/RSNA/content/s...\n",
       "28991  000db696-cf54-4385-b10b-6b16fbb3f985  ...  /content/gdrive/My Drive/kaggle/RSNA/content/s...\n",
       "28992  000fe35a-2649-43d4-b027-e67796d412e0  ...  /content/gdrive/My Drive/kaggle/RSNA/content/s...\n",
       "\n",
       "[5 rows x 9 columns]"
      ]
     },
     "execution_count": 14,
     "metadata": {
      "tags": []
     },
     "output_type": "execute_result"
    }
   ],
   "source": [
    "image_bbox_df = pd.merge(comb_box_df, \n",
    "                         image_df, \n",
    "                         on='patientId',\n",
    "                        how='left').sort_values('patientId')\n",
    "print(image_bbox_df.shape[0], 'image bounding boxes')\n",
    "image_bbox_df.head(5)"
   ]
  },
  {
   "cell_type": "markdown",
   "metadata": {
    "colab_type": "text",
    "id": "chb9WSwHyX8_"
   },
   "source": [
    "Enrich the image fields\n",
    "\n",
    "We have quite a bit of additional data in the DICOM header we can easily extract to help learn more about the patient like their age, view position and gender which can make the model much more precise"
   ]
  },
  {
   "cell_type": "code",
   "execution_count": 0,
   "metadata": {
    "colab": {},
    "colab_type": "code",
    "id": "C_7YbpjRyHJH"
   },
   "outputs": [],
   "source": [
    "from scipy.ndimage import zoom\n",
    "DCM_TAG_LIST = ['PatientAge', 'BodyPartExamined', 'ViewPosition', 'PatientSex']\n",
    "def process_dicom(in_path, in_rows):\n",
    "    c_dicom = pydicom.read_file(in_path, stop_before_pixels=False)\n",
    "    tag_dict = {c_tag: getattr(c_dicom, c_tag, '') \n",
    "         for c_tag in DCM_TAG_LIST}\n",
    "    tag_dict['path'] = in_path\n",
    "    tag_dict['PatientAge'] = int(tag_dict['PatientAge'])\n",
    "    tag_dict['boxes'] = in_rows.shape[0]\n",
    "    tag_dict['class'] = in_rows['class'].iloc[0]\n",
    "    return tag_dict, c_dicom.pixel_array\n",
    "def create_seg_image(base_img, box_rows, out_shape = (512, 512)):\n",
    "    c_size = base_img.shape\n",
    "    x_fact = out_shape[0]/c_size[0]\n",
    "    y_fact = out_shape[1]/c_size[1]\n",
    "    rs_img = zoom(base_img, (x_fact, y_fact))\n",
    "    mk_img = np.zeros(rs_img.shape, dtype=bool)\n",
    "    x_vec = box_rows['x'].map(lambda x: x*x_fact).values.astype(int)\n",
    "    y_vec = box_rows['y'].map(lambda y: y*y_fact).values.astype(int)\n",
    "    w_vec = box_rows['width'].map(lambda w: w*x_fact).values.astype(int)\n",
    "    h_vec = box_rows['height'].map(lambda h: h*y_fact).values.astype(int)\n",
    "    for x, y, w, h in zip(x_vec,\n",
    "                         y_vec, \n",
    "                         w_vec, \n",
    "                         h_vec):\n",
    "        mk_img[y:(y+h), x:(x+w)] = True\n",
    "    return rs_img, mk_img"
   ]
  },
  {
   "cell_type": "code",
   "execution_count": 16,
   "metadata": {
    "colab": {
     "base_uri": "https://localhost:8080/",
     "height": 421
    },
    "colab_type": "code",
    "id": "9jtMBR_TyrgL",
    "outputId": "c53d0225-c85e-475a-84a7-d233bbaf1bc7"
   },
   "outputs": [
    {
     "name": "stdout",
     "output_type": "stream",
     "text": [
      "{'PatientAge': 45, 'BodyPartExamined': 'CHEST', 'ViewPosition': 'PA', 'PatientSex': 'F', 'path': '/content/gdrive/My Drive/kaggle/RSNA/content/stage_2_train_images/0ab261f9-4eb5-42ab-a9a5-e918904d6356.dcm', 'boxes': 4, 'class': 'Lung Opacity'}\n"
     ]
    },
    {
     "data": {
      "text/html": [
       "<div>\n",
       "<style scoped>\n",
       "    .dataframe tbody tr th:only-of-type {\n",
       "        vertical-align: middle;\n",
       "    }\n",
       "\n",
       "    .dataframe tbody tr th {\n",
       "        vertical-align: top;\n",
       "    }\n",
       "\n",
       "    .dataframe thead th {\n",
       "        text-align: right;\n",
       "    }\n",
       "</style>\n",
       "<table border=\"1\" class=\"dataframe\">\n",
       "  <thead>\n",
       "    <tr style=\"text-align: right;\">\n",
       "      <th></th>\n",
       "      <th>patientId</th>\n",
       "      <th>x</th>\n",
       "      <th>y</th>\n",
       "      <th>width</th>\n",
       "      <th>height</th>\n",
       "      <th>Target</th>\n",
       "      <th>class</th>\n",
       "      <th>boxes</th>\n",
       "      <th>path</th>\n",
       "    </tr>\n",
       "  </thead>\n",
       "  <tbody>\n",
       "    <tr>\n",
       "      <th>826</th>\n",
       "      <td>0ab261f9-4eb5-42ab-a9a5-e918904d6356</td>\n",
       "      <td>722.0</td>\n",
       "      <td>558.0</td>\n",
       "      <td>88.0</td>\n",
       "      <td>88.0</td>\n",
       "      <td>1</td>\n",
       "      <td>Lung Opacity</td>\n",
       "      <td>4</td>\n",
       "      <td>/content/gdrive/My Drive/kaggle/RSNA/content/s...</td>\n",
       "    </tr>\n",
       "    <tr>\n",
       "      <th>823</th>\n",
       "      <td>0ab261f9-4eb5-42ab-a9a5-e918904d6356</td>\n",
       "      <td>613.0</td>\n",
       "      <td>352.0</td>\n",
       "      <td>106.0</td>\n",
       "      <td>102.0</td>\n",
       "      <td>1</td>\n",
       "      <td>Lung Opacity</td>\n",
       "      <td>4</td>\n",
       "      <td>/content/gdrive/My Drive/kaggle/RSNA/content/s...</td>\n",
       "    </tr>\n",
       "    <tr>\n",
       "      <th>824</th>\n",
       "      <td>0ab261f9-4eb5-42ab-a9a5-e918904d6356</td>\n",
       "      <td>266.0</td>\n",
       "      <td>644.0</td>\n",
       "      <td>135.0</td>\n",
       "      <td>146.0</td>\n",
       "      <td>1</td>\n",
       "      <td>Lung Opacity</td>\n",
       "      <td>4</td>\n",
       "      <td>/content/gdrive/My Drive/kaggle/RSNA/content/s...</td>\n",
       "    </tr>\n",
       "    <tr>\n",
       "      <th>825</th>\n",
       "      <td>0ab261f9-4eb5-42ab-a9a5-e918904d6356</td>\n",
       "      <td>545.0</td>\n",
       "      <td>452.0</td>\n",
       "      <td>215.0</td>\n",
       "      <td>125.0</td>\n",
       "      <td>1</td>\n",
       "      <td>Lung Opacity</td>\n",
       "      <td>4</td>\n",
       "      <td>/content/gdrive/My Drive/kaggle/RSNA/content/s...</td>\n",
       "    </tr>\n",
       "  </tbody>\n",
       "</table>\n",
       "</div>"
      ],
      "text/plain": [
       "                                patientId  ...                                               path\n",
       "826  0ab261f9-4eb5-42ab-a9a5-e918904d6356  ...  /content/gdrive/My Drive/kaggle/RSNA/content/s...\n",
       "823  0ab261f9-4eb5-42ab-a9a5-e918904d6356  ...  /content/gdrive/My Drive/kaggle/RSNA/content/s...\n",
       "824  0ab261f9-4eb5-42ab-a9a5-e918904d6356  ...  /content/gdrive/My Drive/kaggle/RSNA/content/s...\n",
       "825  0ab261f9-4eb5-42ab-a9a5-e918904d6356  ...  /content/gdrive/My Drive/kaggle/RSNA/content/s...\n",
       "\n",
       "[4 rows x 9 columns]"
      ]
     },
     "execution_count": 16,
     "metadata": {
      "tags": []
     },
     "output_type": "execute_result"
    },
    {
     "data": {
      "image/png": "[encoded data removed]",
      "text/plain": [
       "<Figure size 720x360 with 3 Axes>"
      ]
     },
     "metadata": {
      "needs_background": "light",
      "tags": []
     },
     "output_type": "display_data"
    }
   ],
   "source": [
    "t_path, t_rows = next(iter(image_bbox_df.query('boxes>3').groupby(['path'])))\n",
    "d_info, d_img = process_dicom(t_path, t_rows)\n",
    "print(d_info)\n",
    "fig, (ax0, ax1, ax2) = plt.subplots(1, 3, figsize = (10, 5))\n",
    "\n",
    "ax0.imshow(d_img, cmap='bone')\n",
    "ax0.set_title('Standard Overlay')\n",
    "for _, c_row in t_rows.iterrows():\n",
    "    ax0.add_patch(Rectangle(xy=(c_row['x'], c_row['y']),\n",
    "                 width=c_row['width'],\n",
    "                 height=c_row['height'],\n",
    "                           alpha=5e-1))\n",
    "\n",
    "t_img, t_mask = create_seg_image(d_img, t_rows)\n",
    "ax1.imshow(t_img)\n",
    "ax1.set_title(\"Downscaled Image\")\n",
    "ax2.imshow(t_mask)\n",
    "ax2.set_title('Mask Image')\n",
    "t_rows"
   ]
  },
  {
   "cell_type": "code",
   "execution_count": 0,
   "metadata": {
    "colab": {},
    "colab_type": "code",
    "id": "UT7imjZWyu81"
   },
   "outputs": [],
   "source": [
    "out_img_size = (512, 512)\n",
    "keep_patients = 1000"
   ]
  },
  {
   "cell_type": "code",
   "execution_count": 0,
   "metadata": {
    "colab": {},
    "colab_type": "code",
    "id": "b5qA7yREzLzm"
   },
   "outputs": [],
   "source": [
    "balanced_patient_list = image_bbox_df.\\\n",
    "    query('Target==1')[['Target', 'path']].\\\n",
    "    drop_duplicates().\\\n",
    "    groupby('Target').\\\n",
    "    apply(lambda x: x.sample(keep_patients, random_state=2018, replace=True)).\\\n",
    "    reset_index(drop=True)['path'].values\n",
    "np.random.seed(2018)\n",
    "all_groups = list(image_bbox_df[image_bbox_df['path'].isin(balanced_patient_list)].groupby(['path']))\n",
    "keep_idx = np.random.choice(range(len(all_groups)), keep_patients)\n",
    "all_groups = [all_groups[i] for i in keep_idx]"
   ]
  },
  {
   "cell_type": "code",
   "execution_count": 19,
   "metadata": {
    "colab": {
     "base_uri": "https://localhost:8080/",
     "height": 100,
     "referenced_widgets": [
      "e74061e1b8cc4d4b8a0f0716d9361d66",
      "54b86b491bdf485194ab1b650a6570c8",
      "6343c8e4224541809a837cc419a16e21",
      "05727e2d459a4b45beb223a433af3eed",
      "2ff5990ede7747389a91f9f26c9ead64",
      "ff457dd3b3694d489dc4ede3d6cc9ff4",
      "1802075e6df2444e9a37183cfc52164c",
      "902edab0e7b04a0e938f268150015187"
     ]
    },
    "colab_type": "code",
    "id": "7E7-ZIuczSZP",
    "outputId": "0c35d230-663b-48b5-e52e-69286b972575"
   },
   "outputs": [
    {
     "name": "stderr",
     "output_type": "stream",
     "text": [
      "/usr/local/lib/python3.6/dist-packages/ipykernel_launcher.py:26: TqdmDeprecationWarning: This function will be removed in tqdm==5.0.0\n",
      "Please use `tqdm.notebook.tqdm` instead of `tqdm.tqdm_notebook`\n"
     ]
    },
    {
     "data": {
      "application/vnd.jupyter.widget-view+json": {
       "model_id": "e74061e1b8cc4d4b8a0f0716d9361d66",
       "version_major": 2,
       "version_minor": 0
      },
      "text/plain": [
       "HBox(children=(IntProgress(value=0, max=1000), HTML(value='')))"
      ]
     },
     "metadata": {
      "tags": []
     },
     "output_type": "display_data"
    },
    {
     "name": "stdout",
     "output_type": "stream",
     "text": [
      "\n"
     ]
    }
   ],
   "source": [
    "import h5py\n",
    "from tqdm import tqdm_notebook\n",
    "\n",
    "with h5py.File('train_segs.h5', 'w') as f:\n",
    "    image_out = f.create_dataset('image', \n",
    "                                 shape=(len(all_groups), out_img_size[0], out_img_size[1], 1),\n",
    "                                 dtype=np.uint8)\n",
    "    mask_out = f.create_dataset('mask', \n",
    "                                 shape=(len(all_groups), out_img_size[0], out_img_size[1], 1),\n",
    "                                 dtype=bool,\n",
    "                                 compression='gzip')\n",
    "    d_info, _ = process_dicom(t_path, t_rows)\n",
    "    \n",
    "    key_ds_out = {}\n",
    "    for k,v in d_info.items():\n",
    "        if isinstance(v, str):\n",
    "            key_ds_out[k] = f.create_dataset(k, \n",
    "                                 shape=(len(all_groups),),\n",
    "                                 dtype='S{}'.format(len(v)+2))\n",
    "        elif isinstance(v, int):\n",
    "            key_ds_out[k] = f.create_dataset(k, \n",
    "                                 shape=(len(all_groups),),\n",
    "                                 dtype=int)\n",
    "        else:\n",
    "            print('Unsupported key-type {}: {}'.format(type(v), v))\n",
    "    for i, (c_path, c_rows) in enumerate(tqdm_notebook(all_groups)):\n",
    "        c_info, c_raw_img = process_dicom(c_path, c_rows)\n",
    "        c_img, c_mask = create_seg_image(c_raw_img, c_rows, out_shape=out_img_size)\n",
    "        image_out[i, :, :, 0] = c_img\n",
    "        mask_out[i, :, :, 0] = c_mask\n",
    "        for k in key_ds_out.keys():\n",
    "            if k in c_info:\n",
    "                if isinstance(c_info[k], str):\n",
    "                    key_ds_out[k][i] = c_info[k].encode('ascii')\n",
    "                else:\n",
    "                    key_ds_out[k][i] = c_info[k]"
   ]
  },
  {
   "cell_type": "code",
   "execution_count": 20,
   "metadata": {
    "colab": {
     "base_uri": "https://localhost:8080/",
     "height": 1000
    },
    "colab_type": "code",
    "id": "Z889C7l4zpbq",
    "outputId": "abfe8b33-8b5d-4ca2-d049-f123660bb64a"
   },
   "outputs": [
    {
     "name": "stdout",
     "output_type": "stream",
     "text": [
      "-rw------- 1 root root 252M Apr 12 18:19 train_segs.h5\n",
      "BodyPartExamined (1000,) |S7\n",
      "BodyPartExamined b'CHEST'\n",
      "PatientAge (1000,) int64\n",
      "PatientAge 43\n",
      "PatientSex (1000,) |S3\n",
      "PatientSex b'M'\n",
      "ViewPosition (1000,) |S4\n",
      "ViewPosition b'AP'\n",
      "boxes (1000,) int64\n",
      "boxes 2\n",
      "class (1000,) |S14\n",
      "class b'Lung Opacity'\n",
      "image (1000, 512, 512, 1) uint8\n",
      "image [[[  0]\n",
      "  [  0]\n",
      "  [  0]\n",
      "  ...\n",
      "  [  0]\n",
      "  [  0]\n",
      "  [  0]]\n",
      "\n",
      " [[  0]\n",
      "  [  0]\n",
      "  [  0]\n",
      "  ...\n",
      "  [  0]\n",
      "  [  0]\n",
      "  [  0]]\n",
      "\n",
      " [[  0]\n",
      "  [  0]\n",
      "  [  0]\n",
      "  ...\n",
      "  [  0]\n",
      "  [  0]\n",
      "  [  0]]\n",
      "\n",
      " ...\n",
      "\n",
      " [[ 16]\n",
      "  [ 32]\n",
      "  [ 34]\n",
      "  ...\n",
      "  [213]\n",
      "  [208]\n",
      "  [122]]\n",
      "\n",
      " [[ 14]\n",
      "  [ 29]\n",
      "  [ 33]\n",
      "  ...\n",
      "  [208]\n",
      "  [212]\n",
      "  [120]]\n",
      "\n",
      " [[  7]\n",
      "  [ 14]\n",
      "  [ 15]\n",
      "  ...\n",
      "  [105]\n",
      "  [ 98]\n",
      "  [ 58]]]\n",
      "mask (1000, 512, 512, 1) bool\n",
      "mask [[[False]\n",
      "  [False]\n",
      "  [False]\n",
      "  ...\n",
      "  [False]\n",
      "  [False]\n",
      "  [False]]\n",
      "\n",
      " [[False]\n",
      "  [False]\n",
      "  [False]\n",
      "  ...\n",
      "  [False]\n",
      "  [False]\n",
      "  [False]]\n",
      "\n",
      " [[False]\n",
      "  [False]\n",
      "  [False]\n",
      "  ...\n",
      "  [False]\n",
      "  [False]\n",
      "  [False]]\n",
      "\n",
      " ...\n",
      "\n",
      " [[False]\n",
      "  [False]\n",
      "  [False]\n",
      "  ...\n",
      "  [False]\n",
      "  [False]\n",
      "  [False]]\n",
      "\n",
      " [[False]\n",
      "  [False]\n",
      "  [False]\n",
      "  ...\n",
      "  [False]\n",
      "  [False]\n",
      "  [False]]\n",
      "\n",
      " [[False]\n",
      "  [False]\n",
      "  [False]\n",
      "  ...\n",
      "  [False]\n",
      "  [False]\n",
      "  [False]]]\n",
      "path (1000,) |S108\n",
      "path b'/content/gdrive/My Drive/kaggle/RSNA/content/stage_2_train_images/417553fa-ac96-4f78-bb07-e9e0d0c00ff2.dcm'\n"
     ]
    }
   ],
   "source": [
    "!ls -lh *.h5\n",
    "with h5py.File('train_segs.h5', 'r') as f:\n",
    "    for k in f.keys():\n",
    "        print(k, f[k].shape, f[k].dtype)\n",
    "        print(k, f[k][0])"
   ]
  },
  {
   "cell_type": "code",
   "execution_count": 0,
   "metadata": {
    "colab": {},
    "colab_type": "code",
    "id": "6pH0OcEq44No"
   },
   "outputs": [],
   "source": []
  }
 ],
 "metadata": {
  "colab": {
   "collapsed_sections": [],
   "name": "Group6_Capstone_CV_Pneumonia_challenge_VGG16.ipynb",
   "provenance": []
  },
  "kernelspec": {
   "display_name": "Python 3",
   "language": "python",
   "name": "python3"
  },
  "language_info": {
   "codemirror_mode": {
    "name": "ipython",
    "version": 3
   },
   "file_extension": ".py",
   "mimetype": "text/x-python",
   "name": "python",
   "nbconvert_exporter": "python",
   "pygments_lexer": "ipython3",
   "version": "3.7.6"
  },
  "widgets": {
   "application/vnd.jupyter.widget-state+json": {
    "05727e2d459a4b45beb223a433af3eed": {
     "model_module": "@jupyter-widgets/controls",
     "model_name": "HTMLModel",
     "state": {
      "_dom_classes": [],
      "_model_module": "@jupyter-widgets/controls",
      "_model_module_version": "1.5.0",
      "_model_name": "HTMLModel",
      "_view_count": null,
      "_view_module": "@jupyter-widgets/controls",
      "_view_module_version": "1.5.0",
      "_view_name": "HTMLView",
      "description": "",
      "description_tooltip": null,
      "layout": "IPY_MODEL_902edab0e7b04a0e938f268150015187",
      "placeholder": "​",
      "style": "IPY_MODEL_1802075e6df2444e9a37183cfc52164c",
      "value": " 1000/1000 [07:24&lt;00:00,  2.25it/s]"
     }
    },
    "1802075e6df2444e9a37183cfc52164c": {
     "model_module": "@jupyter-widgets/controls",
     "model_name": "DescriptionStyleModel",
     "state": {
      "_model_module": "@jupyter-widgets/controls",
      "_model_module_version": "1.5.0",
      "_model_name": "DescriptionStyleModel",
      "_view_count": null,
      "_view_module": "@jupyter-widgets/base",
      "_view_module_version": "1.2.0",
      "_view_name": "StyleView",
      "description_width": ""
     }
    },
    "2ff5990ede7747389a91f9f26c9ead64": {
     "model_module": "@jupyter-widgets/controls",
     "model_name": "ProgressStyleModel",
     "state": {
      "_model_module": "@jupyter-widgets/controls",
      "_model_module_version": "1.5.0",
      "_model_name": "ProgressStyleModel",
      "_view_count": null,
      "_view_module": "@jupyter-widgets/base",
      "_view_module_version": "1.2.0",
      "_view_name": "StyleView",
      "bar_color": null,
      "description_width": "initial"
     }
    },
    "54b86b491bdf485194ab1b650a6570c8": {
     "model_module": "@jupyter-widgets/base",
     "model_name": "LayoutModel",
     "state": {
      "_model_module": "@jupyter-widgets/base",
      "_model_module_version": "1.2.0",
      "_model_name": "LayoutModel",
      "_view_count": null,
      "_view_module": "@jupyter-widgets/base",
      "_view_module_version": "1.2.0",
      "_view_name": "LayoutView",
      "align_content": null,
      "align_items": null,
      "align_self": null,
      "border": null,
      "bottom": null,
      "display": null,
      "flex": null,
      "flex_flow": null,
      "grid_area": null,
      "grid_auto_columns": null,
      "grid_auto_flow": null,
      "grid_auto_rows": null,
      "grid_column": null,
      "grid_gap": null,
      "grid_row": null,
      "grid_template_areas": null,
      "grid_template_columns": null,
      "grid_template_rows": null,
      "height": null,
      "justify_content": null,
      "justify_items": null,
      "left": null,
      "margin": null,
      "max_height": null,
      "max_width": null,
      "min_height": null,
      "min_width": null,
      "object_fit": null,
      "object_position": null,
      "order": null,
      "overflow": null,
      "overflow_x": null,
      "overflow_y": null,
      "padding": null,
      "right": null,
      "top": null,
      "visibility": null,
      "width": null
     }
    },
    "6343c8e4224541809a837cc419a16e21": {
     "model_module": "@jupyter-widgets/controls",
     "model_name": "IntProgressModel",
     "state": {
      "_dom_classes": [],
      "_model_module": "@jupyter-widgets/controls",
      "_model_module_version": "1.5.0",
      "_model_name": "IntProgressModel",
      "_view_count": null,
      "_view_module": "@jupyter-widgets/controls",
      "_view_module_version": "1.5.0",
      "_view_name": "ProgressView",
      "bar_style": "success",
      "description": "100%",
      "description_tooltip": null,
      "layout": "IPY_MODEL_ff457dd3b3694d489dc4ede3d6cc9ff4",
      "max": 1000,
      "min": 0,
      "orientation": "horizontal",
      "style": "IPY_MODEL_2ff5990ede7747389a91f9f26c9ead64",
      "value": 1000
     }
    },
    "902edab0e7b04a0e938f268150015187": {
     "model_module": "@jupyter-widgets/base",
     "model_name": "LayoutModel",
     "state": {
      "_model_module": "@jupyter-widgets/base",
      "_model_module_version": "1.2.0",
      "_model_name": "LayoutModel",
      "_view_count": null,
      "_view_module": "@jupyter-widgets/base",
      "_view_module_version": "1.2.0",
      "_view_name": "LayoutView",
      "align_content": null,
      "align_items": null,
      "align_self": null,
      "border": null,
      "bottom": null,
      "display": null,
      "flex": null,
      "flex_flow": null,
      "grid_area": null,
      "grid_auto_columns": null,
      "grid_auto_flow": null,
      "grid_auto_rows": null,
      "grid_column": null,
      "grid_gap": null,
      "grid_row": null,
      "grid_template_areas": null,
      "grid_template_columns": null,
      "grid_template_rows": null,
      "height": null,
      "justify_content": null,
      "justify_items": null,
      "left": null,
      "margin": null,
      "max_height": null,
      "max_width": null,
      "min_height": null,
      "min_width": null,
      "object_fit": null,
      "object_position": null,
      "order": null,
      "overflow": null,
      "overflow_x": null,
      "overflow_y": null,
      "padding": null,
      "right": null,
      "top": null,
      "visibility": null,
      "width": null
     }
    },
    "e74061e1b8cc4d4b8a0f0716d9361d66": {
     "model_module": "@jupyter-widgets/controls",
     "model_name": "HBoxModel",
     "state": {
      "_dom_classes": [],
      "_model_module": "@jupyter-widgets/controls",
      "_model_module_version": "1.5.0",
      "_model_name": "HBoxModel",
      "_view_count": null,
      "_view_module": "@jupyter-widgets/controls",
      "_view_module_version": "1.5.0",
      "_view_name": "HBoxView",
      "box_style": "",
      "children": [
       "IPY_MODEL_6343c8e4224541809a837cc419a16e21",
       "IPY_MODEL_05727e2d459a4b45beb223a433af3eed"
      ],
      "layout": "IPY_MODEL_54b86b491bdf485194ab1b650a6570c8"
     }
    },
    "ff457dd3b3694d489dc4ede3d6cc9ff4": {
     "model_module": "@jupyter-widgets/base",
     "model_name": "LayoutModel",
     "state": {
      "_model_module": "@jupyter-widgets/base",
      "_model_module_version": "1.2.0",
      "_model_name": "LayoutModel",
      "_view_count": null,
      "_view_module": "@jupyter-widgets/base",
      "_view_module_version": "1.2.0",
      "_view_name": "LayoutView",
      "align_content": null,
      "align_items": null,
      "align_self": null,
      "border": null,
      "bottom": null,
      "display": null,
      "flex": null,
      "flex_flow": null,
      "grid_area": null,
      "grid_auto_columns": null,
      "grid_auto_flow": null,
      "grid_auto_rows": null,
      "grid_column": null,
      "grid_gap": null,
      "grid_row": null,
      "grid_template_areas": null,
      "grid_template_columns": null,
      "grid_template_rows": null,
      "height": null,
      "justify_content": null,
      "justify_items": null,
      "left": null,
      "margin": null,
      "max_height": null,
      "max_width": null,
      "min_height": null,
      "min_width": null,
      "object_fit": null,
      "object_position": null,
      "order": null,
      "overflow": null,
      "overflow_x": null,
      "overflow_y": null,
      "padding": null,
      "right": null,
      "top": null,
      "visibility": null,
      "width": null
     }
    }
   }
  }
 },
 "nbformat": 4,
 "nbformat_minor": 1
}
